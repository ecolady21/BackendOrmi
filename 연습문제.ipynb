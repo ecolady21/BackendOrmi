{
  "nbformat": 4,
  "nbformat_minor": 0,
  "metadata": {
    "colab": {
      "provenance": [],
      "authorship_tag": "ABX9TyMHsTsVxhOXNAH6AHYuiFXv",
      "include_colab_link": true
    },
    "kernelspec": {
      "name": "python3",
      "display_name": "Python 3"
    },
    "language_info": {
      "name": "python"
    }
  },
  "cells": [
    {
      "cell_type": "markdown",
      "metadata": {
        "id": "view-in-github",
        "colab_type": "text"
      },
      "source": [
        "<a href=\"https://colab.research.google.com/github/ecolady21/BackendOrmi/blob/main/%EC%97%B0%EC%8A%B5%EB%AC%B8%EC%A0%9C.ipynb\" target=\"_parent\"><img src=\"https://colab.research.google.com/assets/colab-badge.svg\" alt=\"Open In Colab\"/></a>"
      ]
    },
    {
      "cell_type": "code",
      "execution_count": null,
      "metadata": {
        "colab": {
          "base_uri": "https://localhost:8080/"
        },
        "id": "r8LuuclhbfO7",
        "outputId": "9fde3c3e-c9f4-4513-8fd5-058e8e142173"
      },
      "outputs": [
        {
          "output_type": "stream",
          "name": "stdout",
          "text": [
            "3 13 23 33 43 53 63 73 "
          ]
        }
      ],
      "source": [
        "i = 0\n",
        "while True:\n",
        "    if i % 10 != 3:\n",
        "        i += 1\n",
        "        continue\n",
        "\n",
        "    if i > 73:\n",
        "        break\n",
        "    print(i, end=' ')\n",
        "    i += 1"
      ]
    },
    {
      "cell_type": "code",
      "source": [
        "for i in range(5):\n",
        "    for j in range(5):\n",
        "        print('j: ', j, sep='', end=' ')\n",
        "\n",
        "    print('i: ' , i, '\\\\n', sep='')"
      ],
      "metadata": {
        "colab": {
          "base_uri": "https://localhost:8080/"
        },
        "id": "UPscd0FqcgMy",
        "outputId": "04a781e6-09b5-4aab-8cbe-a84b3c2a3065"
      },
      "execution_count": null,
      "outputs": [
        {
          "output_type": "stream",
          "name": "stdout",
          "text": [
            "j: 0 j: 1 j: 2 j: 3 j: 4 i: 0\\n\n",
            "j: 0 j: 1 j: 2 j: 3 j: 4 i: 1\\n\n",
            "j: 0 j: 1 j: 2 j: 3 j: 4 i: 2\\n\n",
            "j: 0 j: 1 j: 2 j: 3 j: 4 i: 3\\n\n",
            "j: 0 j: 1 j: 2 j: 3 j: 4 i: 4\\n\n"
          ]
        }
      ]
    },
    {
      "cell_type": "code",
      "source": [
        "def grade_info()\n",
        "    score = int(input(\"점수를 입력하세요 : \"))\n",
        "    if score >=90:\n",
        "        print(\"성적은 A입니다.\")\n",
        "    elif score >=80:\n",
        "        print(\"성적은 B입니다.\")\n",
        "    elif score >=70:\n",
        "        print(\"성적은 C입니다.\")\n",
        "    elif score >=60:\n",
        "        print(\"성적은 D입니다.\")\n",
        "    else:\n",
        "        print(\"성적은 F입니다.\")\n",
        "\n",
        "grade_info()"
      ],
      "metadata": {
        "colab": {
          "base_uri": "https://localhost:8080/",
          "height": 131
        },
        "id": "pExwnG-QvnqO",
        "outputId": "df4b6244-1f35-4b46-b344-a236d09df185"
      },
      "execution_count": null,
      "outputs": [
        {
          "output_type": "error",
          "ename": "SyntaxError",
          "evalue": "ignored",
          "traceback": [
            "\u001b[0;36m  File \u001b[0;32m\"<ipython-input-5-2dacdafa5988>\"\u001b[0;36m, line \u001b[0;32m1\u001b[0m\n\u001b[0;31m    def grade_info()\u001b[0m\n\u001b[0m                    ^\u001b[0m\n\u001b[0;31mSyntaxError\u001b[0m\u001b[0;31m:\u001b[0m expected ':'\n"
          ]
        }
      ]
    },
    {
      "cell_type": "code",
      "source": [
        "tree = {\n",
        "    'root': {\n",
        "        'value': 5,\n",
        "        'left': {\n",
        "            'value': 3,\n",
        "            'left': {\n",
        "                'value': 1,\n",
        "                'left': None,\n",
        "                'right': None\n",
        "            },\n",
        "            'right': {\n",
        "                'value': 4,\n",
        "                'left': None,\n",
        "                'right': None\n",
        "            }\n",
        "        },\n",
        "        'right': {\n",
        "            'value': 8,\n",
        "            'left': {\n",
        "                'value': 6,\n",
        "                'left': None,\n",
        "                'right': None\n",
        "            },\n",
        "            'right': {\n",
        "                'value': 9,\n",
        "                'left': None,\n",
        "                'right': None\n",
        "            }\n",
        "        }\n",
        "    }\n",
        "}"
      ],
      "metadata": {
        "id": "jBEvlLPtD7eL"
      },
      "execution_count": 1,
      "outputs": []
    },
    {
      "cell_type": "code",
      "source": [
        "tree['root']['left']['right']['value']"
      ],
      "metadata": {
        "colab": {
          "base_uri": "https://localhost:8080/"
        },
        "id": "TslmEsg6Etm5",
        "outputId": "948fef44-01d8-47d9-b0a9-e4268c17e5c9"
      },
      "execution_count": 2,
      "outputs": [
        {
          "output_type": "execute_result",
          "data": {
            "text/plain": [
              "4"
            ]
          },
          "metadata": {},
          "execution_count": 2
        }
      ]
    },
    {
      "cell_type": "code",
      "source": [
        "node1 = {\n",
        "    'value': 1,\n",
        "    'left': None,\n",
        "    'right': None\n",
        "}\n",
        "\n"
      ],
      "metadata": {
        "id": "HofGjXGtE3ck"
      },
      "execution_count": null,
      "outputs": []
    },
    {
      "cell_type": "code",
      "source": [
        "# 노드 호출\n",
        "\n",
        "node1.left.right.data\n"
      ],
      "metadata": {
        "id": "MRK4E4ekIm_z"
      },
      "execution_count": null,
      "outputs": []
    },
    {
      "cell_type": "code",
      "source": [
        "# 노드 선언\n",
        "class Node:\n",
        "    def __init__(self, data):\n",
        "        self.data = data\n",
        "        # self.child = [] #2진 트리가 아니거나 그래프인 경우 등에 자주 활용\n",
        "        self.left = None\n",
        "        self.right = None\n",
        "\n",
        "node1 = Node(5)\n",
        "node2 = Node(3)\n",
        "node3 = Node(8)\n",
        "node4 = Node(1)\n",
        "node5 = Node(4)\n",
        "node6 = Node(6)\n",
        "node7 = Node(9)"
      ],
      "metadata": {
        "id": "JHvzrrEYIqgj"
      },
      "execution_count": null,
      "outputs": []
    },
    {
      "cell_type": "code",
      "source": [
        "# 노드 연결\n",
        "node1.left = node2\n",
        "node1.right = node3\n",
        "\n",
        "node2.left  = node4\n",
        "node2.right = node5\n",
        "\n",
        "node3.left  = node6\n",
        "node3.right = node7"
      ],
      "metadata": {
        "id": "QKanirYyIsPL"
      },
      "execution_count": null,
      "outputs": []
    },
    {
      "cell_type": "code",
      "source": [
        "# 노드 호출\n",
        "\n",
        "node1.left.right.data"
      ],
      "metadata": {
        "id": "HBeNFWTkItax"
      },
      "execution_count": null,
      "outputs": []
    },
    {
      "cell_type": "code",
      "source": [
        "class Node:\n",
        "    def __init__(self, data):\n",
        "        self.data = data\n",
        "        self.left = None\n",
        "        self.right = None\n",
        "\n",
        "class Tree:\n",
        "    def __init__(self, data):\n",
        "        pass\n",
        "\n",
        "    def __len__(self):\n",
        "        pass\n",
        "\n",
        "    def insert(self):\n",
        "        pass\n",
        "\n",
        "    # 깊이 우선 탐색 : 스택\n",
        "    def DFS(self):\n",
        "        pass\n",
        "\n",
        "    # 너비 우선 탐색 : 큐\n",
        "    def BFS(self):\n",
        "        pass"
      ],
      "metadata": {
        "id": "ijIVZy49JD8F"
      },
      "execution_count": null,
      "outputs": []
    },
    {
      "cell_type": "code",
      "source": [
        "class Drone():\n",
        "    def __init__(self, color, weight, speed):\n",
        "        self.color = color\n",
        "        self.weight = weight\n",
        "        self.speed = speed\n",
        "    def show_info(self):\n",
        "        print(\"색깔은 {0}색입니다.\".format(self.color))\n",
        "        print(\"무게는 {0}kg입니다.\".format(self.weight))\n",
        "        print(\"속도는 {0}입니다.\".format(self.speed))\n",
        "    def set_info(self, color, weight, speed):\n",
        "        self.color = color\n",
        "        self.weight = weight\n",
        "        self.speed = speed\n",
        "    def take_off(self):\n",
        "        print(\"이륙합니다.\")\n",
        "        \n",
        "class Codrone(Drone):\n",
        "    def pitch(self):\n",
        "        print(\"빠르게 앞으로 이동합니다.\")\n",
        "        \n",
        "a = Drone(\"노란\", 3, 3)\n",
        "a.show_info()"
      ],
      "metadata": {
        "colab": {
          "base_uri": "https://localhost:8080/"
        },
        "id": "fuoWSU4Mhd_h",
        "outputId": "00015712-e9c9-4fbe-e517-c7b22f941d20"
      },
      "execution_count": 5,
      "outputs": [
        {
          "output_type": "stream",
          "name": "stdout",
          "text": [
            "색깔은 노란색입니다.\n",
            "무게는 3kg입니다.\n",
            "속도는 3입니다.\n"
          ]
        }
      ]
    }
  ]
}